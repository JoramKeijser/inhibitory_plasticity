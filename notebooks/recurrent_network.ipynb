{
 "cells": [
  {
   "cell_type": "markdown",
   "metadata": {},
   "source": [
    "Balance a recurrent neural network"
   ]
  },
  {
   "cell_type": "code",
   "execution_count": 7,
   "metadata": {},
   "outputs": [],
   "source": [
    "import numpy as onp\n",
    "from jax import numpy as np\n",
    "from jax import random, vmap, jit, value_and_grad\n",
    "from jax.lax import scan, clamp\n",
    "from jax.ops import index_min, index_update\n",
    "from jax.numpy import clip\n",
    "import jax\n",
    "from jax.experimental.optimizers import adam\n",
    "\n",
    "import matplotlib.pyplot as plt\n",
    "%matplotlib inline\n",
    "import seaborn as sns\n",
    "sns.set_palette(\"colorblind\")\n",
    "sns.set_context(\"poster\")"
   ]
  },
  {
   "cell_type": "code",
   "execution_count": 8,
   "metadata": {},
   "outputs": [],
   "source": [
    "slope = 10\n",
    "@jax.custom_transforms\n",
    "def spiking_fn(x):\n",
    "    return np.where(x>0, 1.0, 0.0)\n",
    "\n",
    "jax.defvjp(spiking_fn, lambda g, ans, x: g / (slope * np.abs(x) + 1.0)**2)"
   ]
  },
  {
   "cell_type": "code",
   "execution_count": 9,
   "metadata": {},
   "outputs": [],
   "source": [
    "def split_keys(key, n_keys):\n",
    "    new_keys = random.split(key, n_keys+1)\n",
    "    return (k for k in new_keys[1:])\n",
    "\n",
    "def random_parameters(key, Ne, Ni, p = 0.2):\n",
    "    keys = split_keys(key, 2 * 4)\n",
    "    weights = {'Wee': random.normal(next(keys), (Ne, Ne)) * 1/np.sqrt(Ne * p), \n",
    "            'Wie': random.normal(next(keys), (Ni, Ne)) * 1 / np.sqrt(Ni * p),\n",
    "           'Wei': random.normal(next(keys), (Ne, Ni)) * 1 / np.sqrt(Ni * p),\n",
    "           'Wii': random.normal(next(keys), (Ni, Ni)) * 1 / np.sqrt(Ni * p)}\n",
    "    masks = {}\n",
    "    for key, weight in weights.items():\n",
    "        masks[key] = random.bernoulli(next(keys), p, weight.shape)\n",
    "    return weights, masks"
   ]
  },
  {
   "cell_type": "code",
   "execution_count": 10,
   "metadata": {},
   "outputs": [],
   "source": [
    "def gen_init_states(Ne, Ni):\n",
    "    ve = np.zeros((Ne, ), dtype='float32')\n",
    "    vi = np.zeros((Ni, ), dtype='float32')\n",
    "    se = np.zeros((Ne, ), dtype='float32')\n",
    "    si = np.zeros((Ni, ), dtype='float32')\n",
    "    tspikee = np.ones((Ne, ), dtype='float32') * -np.inf\n",
    "    tspikei = np.ones((Ni, ), dtype='float32') * -np.inf\n",
    "    syne = np.ones((Ne, ), dtype='float32') # Filtered spike trains\n",
    "    syni = np.ones((Ni, ), dtype='float32')# Filtered spike trains\n",
    "    syne_slow = np.ones((Ne, ), dtype='float32') # Filtered spike trains\n",
    "    t = 0\n",
    "    return se, si, ve, vi, tspikee, tspikei, syne, syni, syne_slow, t\n",
    "\n",
    "def step_forward(params, masks, states, xt):\n",
    "    se, si, ve, vi, tspikee, tspikei, syne, syni, syne_slow, t = states\n",
    "    p = {'vth': 1.0, 'tau_syn': 5.0, 'tau': 10.0 ,\n",
    "         'tau_std': 20.0, 'trst': 5.0}\n",
    "    dt = 1.0\n",
    "    \n",
    "    Wee = np.abs(params['Wee']) * masks['Wee']\n",
    "    Wei = np.abs(params['Wei']) * masks['Wei'] * -1\n",
    "    Wie = np.abs(params['Wie']) * masks['Wie']\n",
    "    Wii = np.abs(params['Wii']) * masks['Wii'] * -1\n",
    "\n",
    "    \n",
    "    se = spiking_fn(ve - p['vth'])\n",
    "    si = spiking_fn(vi - p['vth'])\n",
    "    tspikee = np.where(se == 1.0, t, tspikee)\n",
    "    tspikei = np.where(si == 1.0, t, tspikei)\n",
    "    \n",
    "  \n",
    "    syne = (1 - dt / p['tau_syn']) * syne + se \n",
    "    syni = (1 - dt / p['tau_syn']) * syni + si\n",
    "    syne_slow = (1 - dt / p['tau_std']) * syne + se\n",
    "    \n",
    "    dvdt = -ve / p['tau'] + np.dot(Wee, syne) + np.dot(Wei, syni)  \n",
    "    ve = np.where(t - tspikee <= 5.0, 0.0, ve + dt * dvdt + 1)\n",
    "    dvdt = -vi / p['tau'] + np.dot(Wie, syne) + np.dot(Wii, syni)\n",
    "    vi = np.where(t - tspikei <= 5.0, 0.0, vi + dt * dvdt)\n",
    "    \n",
    "    \n",
    "    states = se, si, ve, vi, tspikee, tspikei, syne, syni, syne_slow, t+1\n",
    "    \n",
    "    return states, states\n",
    "\n",
    "def network(params, masks, x = np.zeros((1000, ))):\n",
    "    init_states = gen_init_states(Ne, Ni)\n",
    "    _, states = scan(lambda s, x: step_forward(params, masks, s, x), init_states, x)\n",
    "    return states\n",
    "\n",
    "\n",
    "def loss_fn(y, y_hat):\n",
    "    return np.mean((y - y_hat)**2)\n",
    "\n",
    "def update_params(step, get_params, opt_update, opt_state, masks):\n",
    "    params = get_params(opt_state)\n",
    "    \n",
    "    def loss_fn(params, masks):\n",
    "        states = network(params, masks)\n",
    "        syne_slow = states[-2]\n",
    "        return np.mean((syne_slow - 0.2)**2)\n",
    "    \n",
    "    l, grads = value_and_grad(loss_fn)(params, masks)\n",
    "    return l, opt_update(step, grads, opt_state)\n",
    "\n",
    "network_jit = jit(network)\n",
    "update_params_jit = jit(update_params, (1,2,4))#, (1, 2, 4))"
   ]
  },
  {
   "cell_type": "code",
   "execution_count": 11,
   "metadata": {},
   "outputs": [
    {
     "name": "stdout",
     "output_type": "stream",
     "text": [
      "57164.0\n"
     ]
    }
   ],
   "source": [
    "Ne, Ni = 400, 100\n",
    "seed = onp.random.randint(1e6)\n",
    "key = random.PRNGKey(seed)\n",
    "params, masks = random_parameters(key, Ne, Ni)\n",
    "states = network_jit(params, masks)\n",
    "ve = states[0]\n",
    "spikes_e = states[0]\n",
    "print(spikes_e.sum())\n",
    "se, si, ve, vi, tspikee, tspikei, syne, syni, syne_slow, t = states"
   ]
  },
  {
   "cell_type": "code",
   "execution_count": 12,
   "metadata": {},
   "outputs": [
    {
     "name": "stdout",
     "output_type": "stream",
     "text": [
      "0 0.7496524 0.8213385 142\n",
      "10 0.11648629 0.10365678 17\n",
      "20 0.081601 0.065613076 10\n",
      "30 0.08067299 0.060973108 9\n",
      "40 0.07415617 0.053113896 8\n",
      "50 0.07008844 0.048112005 7\n",
      "60 0.068627164 0.04702424 7\n",
      "70 0.06785508 0.04553108 7\n",
      "80 0.06531409 0.042709537 6\n",
      "90 0.06575904 0.04174918 6\n"
     ]
    }
   ],
   "source": [
    "opt_init, opt_update, get_params = adam(5e-3)\n",
    "params, masks = random_parameters(key, Ne, Ni)\n",
    "opt_state = opt_init(params)\n",
    "\n",
    "n_steps = 100\n",
    "for step in range(n_steps):\n",
    "    l, opt_state = update_params_jit(step, get_params, opt_update, opt_state, masks)\n",
    "    if step%10 == 0:\n",
    "        # Eval\n",
    "        params = get_params(opt_state)\n",
    "        states = network_jit(params, masks)\n",
    "        se, si, ve, vi, tspikee, tspikei, syne, syni, syne_slow, t = states\n",
    "        print(step, l, syne_slow.mean(), int(se.mean(1).sum()))"
   ]
  },
  {
   "cell_type": "code",
   "execution_count": 13,
   "metadata": {},
   "outputs": [
    {
     "data": {
      "text/plain": [
       "<matplotlib.image.AxesImage at 0x150e7a04f4a8>"
      ]
     },
     "execution_count": 13,
     "metadata": {},
     "output_type": "execute_result"
    },
    {
     "data": {
      "image/png": "[encoded data removed]",
      "text/plain": [
       "<Figure size 432x288 with 1 Axes>"
      ]
     },
     "metadata": {
      "needs_background": "light"
     },
     "output_type": "display_data"
    }
   ],
   "source": [
    "plt.imshow(syne.T)"
   ]
  },
  {
   "cell_type": "code",
   "execution_count": 14,
   "metadata": {},
   "outputs": [
    {
     "data": {
      "text/plain": [
       "<matplotlib.image.AxesImage at 0x150e79f15550>"
      ]
     },
     "execution_count": 14,
     "metadata": {},
     "output_type": "execute_result"
    },
    {
     "data": {
      "image/png": "[encoded data removed]",
      "text/plain": [
       "<Figure size 432x288 with 1 Axes>"
      ]
     },
     "metadata": {
      "needs_background": "light"
     },
     "output_type": "display_data"
    }
   ],
   "source": [
    "plt.imshow(se.T, cmap='gray_r')"
   ]
  },
  {
   "cell_type": "code",
   "execution_count": 15,
   "metadata": {},
   "outputs": [
    {
     "data": {
      "text/plain": [
       "<matplotlib.image.AxesImage at 0x150e78f937b8>"
      ]
     },
     "execution_count": 15,
     "metadata": {},
     "output_type": "execute_result"
    },
    {
     "data": {
      "image/png": "[encoded data removed]",
      "text/plain": [
       "<Figure size 432x288 with 1 Axes>"
      ]
     },
     "metadata": {
      "needs_background": "light"
     },
     "output_type": "display_data"
    }
   ],
   "source": [
    "plt.imshow(syne_slow.T)"
   ]
  }
 ],
 "metadata": {
  "kernelspec": {
   "display_name": "Python 3",
   "language": "python",
   "name": "python3"
  },
  "language_info": {
   "codemirror_mode": {
    "name": "ipython",
    "version": 3
   },
   "file_extension": ".py",
   "mimetype": "text/x-python",
   "name": "python",
   "nbconvert_exporter": "python",
   "pygments_lexer": "ipython3",
   "version": "3.7.3"
  }
 },
 "nbformat": 4,
 "nbformat_minor": 2
}
